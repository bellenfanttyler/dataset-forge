{
 "cells": [
  {
   "cell_type": "code",
   "execution_count": 1,
   "metadata": {},
   "outputs": [],
   "source": [
    "# Importing necessary libraries \n",
    "import sys\n",
    "import os\n",
    "import cv2\n",
    "from PIL import Image\n",
    "import numpy as np\n",
    "import matplotlib.pyplot as plt\n",
    "\n",
    "# Appending the parent directory (root of the project) to the system path\n",
    "sys.path.append(os.path.abspath('../'))"
   ]
  },
  {
   "cell_type": "code",
   "execution_count": 2,
   "metadata": {},
   "outputs": [
    {
     "name": "stderr",
     "output_type": "stream",
     "text": [
      "c:\\Users\\Tyler\\anaconda3\\envs\\bp_ai\\lib\\site-packages\\tqdm\\auto.py:21: TqdmWarning: IProgress not found. Please update jupyter and ipywidgets. See https://ipywidgets.readthedocs.io/en/stable/user_install.html\n",
      "  from .autonotebook import tqdm as notebook_tqdm\n"
     ]
    }
   ],
   "source": [
    "# Import custom functions from the src package\n",
    "from src import create_image_mask"
   ]
  },
  {
   "cell_type": "code",
   "execution_count": null,
   "metadata": {},
   "outputs": [],
   "source": [
    "# Load a sample image using OpenCV\n",
    "sample_image_path = '../data/base_images/warehouse/warehouse_0000.jpg'  # Replace with the actual path\n",
    "sample_image = cv2.imread(sample_image_path)\n",
    "sample_image = cv2.cvtColor(sample_image, cv2.COLOR_BGR2RGB)  # Convert to RGB for visualization\n",
    "\n",
    "# Create an image mask using the custom mask generation function\n",
    "mask, bboxes = create_image_mask(sample_image)\n",
    "\n",
    "# Display the original image and the mask\n",
    "plt.figure(figsize=(12, 6))\n",
    "plt.subplot(1, 2, 1)\n",
    "plt.imshow(sample_image)\n",
    "plt.title('Original Image')\n",
    "plt.subplot(1, 2, 2)\n",
    "plt.imshow(mask, cmap='gray')\n",
    "plt.title('Generated Mask')\n",
    "plt.show()"
   ]
  },
  {
   "cell_type": "code",
   "execution_count": null,
   "metadata": {},
   "outputs": [],
   "source": [
    "# Run the demo with default parameters and config file\n",
    "# TODO THIS DOESN'T WORK RIGHT NOW 12/21/23\n",
    "!python ../src/inpainting_dataset_generator.py"
   ]
  },
  {
   "cell_type": "code",
   "execution_count": null,
   "metadata": {},
   "outputs": [],
   "source": [
    "# Below are a few functions to help visualize the results of dataset generation\n",
    "from PIL import Image, ImageDraw\n",
    "\n",
    "# Function to read the bounding box annotations from the generated text file\n",
    "def read_bounding_boxes(file_path, image_width, image_height):\n",
    "    bounding_boxes = []\n",
    "    with open(file_path, \"r\") as file:\n",
    "        for line in file:\n",
    "            # Extracting YOLO format coordinates\n",
    "            _, x_center, y_center, width, height = map(float, line.strip().split())\n",
    "\n",
    "            # Convert from YOLO format (center) to corner coordinates\n",
    "            x_min = (x_center - width / 2) * image_width\n",
    "            y_min = (y_center - height / 2) * image_height\n",
    "            x_max = (x_center + width / 2) * image_width\n",
    "            y_max = (y_center + height / 2) * image_height\n",
    "\n",
    "            bounding_boxes.append((x_min, y_min, x_max, y_max))\n",
    "\n",
    "    return bounding_boxes\n",
    "\n",
    "# Function to draw the bounding boxes on the inpainted image\n",
    "def draw_bounding_boxes(image, bounding_boxes):\n",
    "    draw = ImageDraw.Draw(image)\n",
    "    for box in bounding_boxes:\n",
    "        draw.rectangle(box, outline=\"red\", width=2)\n",
    "    return image\n",
    "\n",
    "# Function that handles the reading and drawing of bounding boxes on an image\n",
    "def overlay_bboxes(image_path, bbox_file_path):\n",
    "    # Read the image\n",
    "    image = Image.open(image_path)\n",
    "    image_width, image_height = image.size\n",
    "\n",
    "    # Read bounding boxes from file, scaled to image dimensions\n",
    "    bounding_boxes = read_bounding_boxes(bbox_file_path, image_width, image_height)\n",
    "\n",
    "    # Draw bounding boxes on the image\n",
    "    image_with_boxes = draw_bounding_boxes(image, bounding_boxes)\n",
    "\n",
    "    # Return the result\n",
    "    return image_with_boxes"
   ]
  },
  {
   "cell_type": "code",
   "execution_count": null,
   "metadata": {},
   "outputs": [],
   "source": [
    "# Visualizing the inpainted image with the generated bounding box label\n",
    "image_path = \"../data/output/example_dataset_demo/warehouse_0000_0_0001.png\"\n",
    "bbox_file_path = \"../data/output/example_dataset_demo/warehouse_0000_0_0001.txt\"\n",
    "output_path = \"path_to_save_output_image.jpg\"\n",
    "\n",
    "labeled_image = overlay_bboxes(image_path, bbox_file_path)\n",
    "labeled_image"
   ]
  }
 ],
 "metadata": {
  "kernelspec": {
   "display_name": "breakpoint",
   "language": "python",
   "name": "python3"
  },
  "language_info": {
   "codemirror_mode": {
    "name": "ipython",
    "version": 3
   },
   "file_extension": ".py",
   "mimetype": "text/x-python",
   "name": "python",
   "nbconvert_exporter": "python",
   "pygments_lexer": "ipython3",
   "version": "3.10.13"
  }
 },
 "nbformat": 4,
 "nbformat_minor": 2
}
